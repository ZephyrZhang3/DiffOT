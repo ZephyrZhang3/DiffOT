{
 "cells": [
  {
   "cell_type": "code",
   "execution_count": 1,
   "metadata": {
    "execution": {
     "iopub.execute_input": "2024-05-30T17:23:32.650800Z",
     "iopub.status.busy": "2024-05-30T17:23:32.649952Z",
     "iopub.status.idle": "2024-05-30T17:23:35.337284Z",
     "shell.execute_reply": "2024-05-30T17:23:35.336454Z",
     "shell.execute_reply.started": "2024-05-30T17:23:32.650734Z"
    }
   },
   "outputs": [
    {
     "name": "stderr",
     "output_type": "stream",
     "text": [
      "/root/DiffOT/.venv/lib/python3.12/site-packages/tqdm/auto.py:22: TqdmWarning: IProgress not found. Please update jupyter and ipywidgets. See https://ipywidgets.readthedocs.io/en/stable/user_install.html\n",
      "  from .autonotebook import tqdm as notebook_tqdm\n"
     ]
    }
   ],
   "source": [
    "import sys\n",
    "\n",
    "sys.path.append(\"..\")\n",
    "\n",
    "import numpy as np\n",
    "\n",
    "%matplotlib inline \n",
    "\n",
    "import gc\n",
    "import json\n",
    "\n",
    "import torch\n",
    "\n",
    "# This needed to use dataloaders for some datasets\n",
    "from PIL import PngImagePlugin\n",
    "from tqdm.auto import tqdm\n",
    "\n",
    "from src.tools import get_stats, load_dataset\n",
    "\n",
    "LARGE_ENOUGH_NUMBER = 100\n",
    "PngImagePlugin.MAX_TEXT_CHUNK = LARGE_ENOUGH_NUMBER * (1024**2)"
   ]
  },
  {
   "cell_type": "code",
   "execution_count": 2,
   "metadata": {
    "execution": {
     "iopub.execute_input": "2024-05-30T17:23:35.870993Z",
     "iopub.status.busy": "2024-05-30T17:23:35.869823Z",
     "iopub.status.idle": "2024-05-30T17:23:35.984238Z",
     "shell.execute_reply": "2024-05-30T17:23:35.982981Z",
     "shell.execute_reply.started": "2024-05-30T17:23:35.870929Z"
    }
   },
   "outputs": [],
   "source": [
    "gc.collect()\n",
    "torch.cuda.empty_cache()"
   ]
  },
  {
   "cell_type": "markdown",
   "metadata": {},
   "source": [
    "## Main Config\n"
   ]
  },
  {
   "cell_type": "code",
   "execution_count": 3,
   "metadata": {
    "execution": {
     "iopub.execute_input": "2024-05-30T17:23:36.725093Z",
     "iopub.status.busy": "2024-05-30T17:23:36.724362Z",
     "iopub.status.idle": "2024-05-30T17:23:36.767894Z",
     "shell.execute_reply": "2024-05-30T17:23:36.766806Z",
     "shell.execute_reply.started": "2024-05-30T17:23:36.725042Z"
    },
    "tags": [
     "parameters"
    ]
   },
   "outputs": [],
   "source": [
    "DEVICE_ID = 0\n",
    "\n",
    "DATASET_LIST = [\n",
    "    (\"MNIST-colored_3\", \"~/data/MNIST\", 32),\n",
    "]\n",
    "# DATASET_LIST = [\n",
    "#     (\"CelebA_high\", \"~/data/img_align_celeba\", 64, 1),\n",
    "# ]\n",
    "\n",
    "assert torch.cuda.is_available()\n",
    "torch.cuda.set_device(f\"cuda:{DEVICE_ID}\")"
   ]
  },
  {
   "cell_type": "code",
   "execution_count": 4,
   "metadata": {
    "execution": {
     "iopub.execute_input": "2024-05-30T17:23:38.353261Z",
     "iopub.status.busy": "2024-05-30T17:23:38.352678Z",
     "iopub.status.idle": "2024-05-30T17:23:54.895318Z",
     "shell.execute_reply": "2024-05-30T17:23:54.894449Z",
     "shell.execute_reply.started": "2024-05-30T17:23:38.353213Z"
    }
   },
   "outputs": [
    {
     "name": "stderr",
     "output_type": "stream",
     "text": [
      "  0%|                                                                                                                                                              | 0/1 [00:00<?, ?it/s]"
     ]
    },
    {
     "name": "stdout",
     "output_type": "stream",
     "text": [
      "Processing MNIST-colored_3\n",
      "Dataset MNIST-colored_3 loaded\n"
     ]
    },
    {
     "name": "stderr",
     "output_type": "stream",
     "text": [
      "/root/DiffOT/.venv/lib/python3.12/site-packages/torchvision/models/_utils.py:208: UserWarning: The parameter 'pretrained' is deprecated since 0.13 and may be removed in the future, please use 'weights' instead.\n",
      "  warnings.warn(\n",
      "/root/DiffOT/.venv/lib/python3.12/site-packages/torchvision/models/_utils.py:223: UserWarning: Arguments other than a weight enum or `None` for 'weights' are deprecated since 0.13 and may be removed in the future. The current behavior is equivalent to passing `weights=None`.\n",
      "  warnings.warn(msg)\n",
      "Downloading: \"https://github.com/mseitzer/pytorch-fid/releases/download/fid_weights/pt_inception-2015-12-05-6726825d.pth\" to /root/.cache/torch/hub/checkpoints/pt_inception-2015-12-05-6726825d.pth\n",
      "\n",
      "  0%|                                                                                                                                                        | 0.00/91.2M [00:00<?, ?B/s]\u001b[A\n",
      "  0%|▏                                                                                                                                                | 128k/91.2M [00:00<02:53, 552kB/s]\u001b[A\n",
      "  0%|▌                                                                                                                                               | 384k/91.2M [00:00<01:20, 1.19MB/s]\u001b[A\n",
      "  1%|█▏                                                                                                                                              | 768k/91.2M [00:00<00:46, 2.05MB/s]\u001b[A\n",
      "  2%|██▎                                                                                                                                            | 1.50M/91.2M [00:00<00:24, 3.80MB/s]\u001b[A\n",
      "  3%|████▌                                                                                                                                          | 2.88M/91.2M [00:00<00:13, 6.95MB/s]\u001b[A\n",
      "  6%|████████▏                                                                                                                                      | 5.25M/91.2M [00:00<00:07, 12.3MB/s]\u001b[A\n",
      "  9%|████████████▎                                                                                                                                  | 7.88M/91.2M [00:00<00:05, 16.8MB/s]\u001b[A\n",
      " 12%|████████████████▍                                                                                                                              | 10.5M/91.2M [00:00<00:04, 19.9MB/s]\u001b[A\n",
      " 15%|████████████████████▊                                                                                                                          | 13.2M/91.2M [00:01<00:03, 22.3MB/s]\u001b[A\n",
      " 18%|█████████████████████████▍                                                                                                                     | 16.2M/91.2M [00:01<00:03, 24.1MB/s]\u001b[A\n",
      " 21%|██████████████████████████████▏                                                                                                                | 19.2M/91.2M [00:01<00:02, 25.3MB/s]\u001b[A\n",
      " 24%|██████████████████████████████████▉                                                                                                            | 22.2M/91.2M [00:01<00:02, 26.1MB/s]\u001b[A\n",
      " 28%|███████████████████████████████████████▍                                                                                                       | 25.1M/91.2M [00:01<00:02, 26.6MB/s]\u001b[A\n",
      " 31%|████████████████████████████████████████████                                                                                                   | 28.1M/91.2M [00:01<00:02, 27.2MB/s]\u001b[A\n",
      " 34%|████████████████████████████████████████████████▊                                                                                              | 31.1M/91.2M [00:01<00:02, 27.4MB/s]\u001b[A\n",
      " 37%|█████████████████████████████████████████████████████▌                                                                                         | 34.1M/91.2M [00:01<00:02, 27.7MB/s]\u001b[A\n",
      " 41%|██████████████████████████████████████████████████████████▏                                                                                    | 37.1M/91.2M [00:01<00:02, 27.8MB/s]\u001b[A\n",
      " 44%|██████████████████████████████████████████████████████████████▉                                                                                | 40.1M/91.2M [00:02<00:01, 27.9MB/s]\u001b[A\n",
      " 47%|███████████████████████████████████████████████████████████████████▌                                                                           | 43.1M/91.2M [00:02<00:01, 28.0MB/s]\u001b[A\n",
      " 51%|████████████████████████████████████████████████████████████████████████▎                                                                      | 46.1M/91.2M [00:02<00:01, 28.0MB/s]\u001b[A\n",
      " 54%|████████████████████████████████████████████████████████████████████████████▊                                                                  | 49.0M/91.2M [00:02<00:01, 28.5MB/s]\u001b[A\n",
      " 57%|█████████████████████████████████████████████████████████████████████████████████▌                                                             | 52.0M/91.2M [00:02<00:01, 28.4MB/s]\u001b[A\n",
      " 60%|██████████████████████████████████████████████████████████████████████████████████████                                                         | 54.9M/91.2M [00:02<00:01, 28.1MB/s]\u001b[A\n",
      " 63%|██████████████████████████████████████████████████████████████████████████████████████████▋                                                    | 57.9M/91.2M [00:02<00:01, 28.1MB/s]\u001b[A\n",
      " 67%|███████████████████████████████████████████████████████████████████████████████████████████████▍                                               | 60.9M/91.2M [00:02<00:01, 28.1MB/s]\u001b[A\n",
      " 70%|████████████████████████████████████████████████████████████████████████████████████████████████████▏                                          | 63.9M/91.2M [00:02<00:01, 28.0MB/s]\u001b[A\n",
      " 73%|████████████████████████████████████████████████████████████████████████████████████████████████████████▋                                      | 66.8M/91.2M [00:03<00:00, 28.4MB/s]\u001b[A\n",
      " 76%|█████████████████████████████████████████████████████████████████████████████████████████████████████████████▎                                 | 69.8M/91.2M [00:03<00:00, 28.2MB/s]\u001b[A\n",
      " 80%|██████████████████████████████████████████████████████████████████████████████████████████████████████████████████                             | 72.8M/91.2M [00:03<00:00, 28.0MB/s]\u001b[A\n",
      " 83%|██████████████████████████████████████████████████████████████████████████████████████████████████████████████████████▊                        | 75.8M/91.2M [00:03<00:00, 28.1MB/s]\u001b[A\n",
      " 86%|███████████████████████████████████████████████████████████████████████████████████████████████████████████████████████████▍                   | 78.8M/91.2M [00:03<00:00, 28.0MB/s]\u001b[A\n",
      " 90%|████████████████████████████████████████████████████████████████████████████████████████████████████████████████████████████████▏              | 81.8M/91.2M [00:03<00:00, 28.0MB/s]\u001b[A\n",
      " 93%|████████████████████████████████████████████████████████████████████████████████████████████████████████████████████████████████████▉          | 84.8M/91.2M [00:03<00:00, 28.0MB/s]\u001b[A\n",
      " 96%|█████████████████████████████████████████████████████████████████████████████████████████████████████████████████████████████████████████▌     | 87.8M/91.2M [00:03<00:00, 28.1MB/s]\u001b[A\n",
      "100%|███████████████████████████████████████████████████████████████████████████████████████████████████████████████████████████████████████████████| 91.2M/91.2M [00:03<00:00, 24.0MB/s]\u001b[A\n",
      "\n",
      "0it [00:00, ?it/s]\u001b[A\n",
      "1it [00:00,  3.23it/s]\u001b[A\n",
      "2it [00:00,  4.99it/s]\u001b[A\n",
      "3it [00:00,  6.02it/s]\u001b[A\n",
      "4it [00:00,  5.91it/s]\u001b[A\n"
     ]
    },
    {
     "name": "stdout",
     "output_type": "stream",
     "text": [
      "Trace of sigma: 67.06710443320588\n",
      "Stats computed\n"
     ]
    },
    {
     "name": "stderr",
     "output_type": "stream",
     "text": [
      "100%|██████████████████████████████████████████████████████████████████████████████████████████████████████████████████████████████████████████████████████| 1/1 [00:16<00:00, 16.52s/it]"
     ]
    },
    {
     "name": "stdout",
     "output_type": "stream",
     "text": [
      "States saved to MNIST-colored_3_32_test.json\n"
     ]
    },
    {
     "name": "stderr",
     "output_type": "stream",
     "text": [
      "\n"
     ]
    }
   ],
   "source": [
    "for DATASET, DATASET_PATH, IMG_SIZE in tqdm(DATASET_LIST):\n",
    "    print(\"Processing {}\".format(DATASET))\n",
    "    sampler, test_sampler = load_dataset(\n",
    "        DATASET, DATASET_PATH, img_size=IMG_SIZE, batch_size=256\n",
    "    )\n",
    "    print(\"Dataset {} loaded\".format(DATASET))\n",
    "\n",
    "    mu, sigma = get_stats(\n",
    "        test_sampler.loader, inception=True, verbose=True, batch_size=256\n",
    "    )\n",
    "    print(\"Trace of sigma: {}\".format(np.trace(sigma)))\n",
    "    stats = {\"mu\": mu.tolist(), \"sigma\": sigma.tolist()}\n",
    "    print(\"Stats computed\")\n",
    "\n",
    "    filename = \"{}_{}_test.json\".format(DATASET, IMG_SIZE)\n",
    "    with open(filename, \"w\") as fp:\n",
    "        json.dump(stats, fp)\n",
    "    print(\"States saved to {}\".format(filename))"
   ]
  },
  {
   "cell_type": "code",
   "execution_count": null,
   "metadata": {},
   "outputs": [],
   "source": []
  }
 ],
 "metadata": {
  "celltoolbar": "Tags",
  "kernelspec": {
   "display_name": "Python 3 (ipykernel)",
   "language": "python",
   "name": "python3"
  },
  "language_info": {
   "codemirror_mode": {
    "name": "ipython",
    "version": 3
   },
   "file_extension": ".py",
   "mimetype": "text/x-python",
   "name": "python",
   "nbconvert_exporter": "python",
   "pygments_lexer": "ipython3",
   "version": "3.12.2"
  }
 },
 "nbformat": 4,
 "nbformat_minor": 4
}
