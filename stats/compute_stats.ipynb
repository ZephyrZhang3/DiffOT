{
 "cells": [
  {
   "cell_type": "code",
   "execution_count": 1,
   "metadata": {},
   "outputs": [],
   "source": [
    "import sys\n",
    "\n",
    "sys.path.append(\"..\")\n",
    "\n",
    "import numpy as np\n",
    "\n",
    "%matplotlib inline \n",
    "\n",
    "import gc\n",
    "import json\n",
    "\n",
    "import torch\n",
    "\n",
    "# This needed to use dataloaders for some datasets\n",
    "from PIL import PngImagePlugin\n",
    "from tqdm.auto import tqdm\n",
    "\n",
    "from src.tools import get_loader_stats, load_dataset\n",
    "\n",
    "LARGE_ENOUGH_NUMBER = 100\n",
    "PngImagePlugin.MAX_TEXT_CHUNK = LARGE_ENOUGH_NUMBER * (1024**2)"
   ]
  },
  {
   "cell_type": "code",
   "execution_count": 2,
   "metadata": {},
   "outputs": [],
   "source": [
    "gc.collect()\n",
    "torch.cuda.empty_cache()"
   ]
  },
  {
   "cell_type": "markdown",
   "metadata": {},
   "source": [
    "## Main Config\n"
   ]
  },
  {
   "cell_type": "code",
   "execution_count": 5,
   "metadata": {
    "tags": [
     "parameters"
    ]
   },
   "outputs": [],
   "source": [
    "DEVICE_ID = 0\n",
    "\n",
    "DATASET_LIST = [\n",
    "    (\"MNIST-colored_3\", \"~/data/MNIST\", 64, 1),\n",
    "]\n",
    "# DATASET_LIST = [\n",
    "#     (\"CelebA_high\", \"~/data/img_align_celeba\", 64, 1),\n",
    "# ]\n",
    "\n",
    "assert torch.cuda.is_available()\n",
    "torch.cuda.set_device(f\"cuda:{DEVICE_ID}\")"
   ]
  },
  {
   "cell_type": "code",
   "execution_count": null,
   "metadata": {},
   "outputs": [],
   "source": [
    "for DATASET, DATASET_PATH, IMG_SIZE, N_EPOCHS in tqdm(DATASET_LIST):\n",
    "    print(\"Processing {}\".format(DATASET))\n",
    "    sampler, test_sampler = load_dataset(\n",
    "        DATASET, DATASET_PATH, img_size=IMG_SIZE, batch_size=256\n",
    "    )\n",
    "    print(\"Dataset {} loaded\".format(DATASET))\n",
    "\n",
    "    mu, sigma = get_loader_stats(\n",
    "        test_sampler.loader, n_epochs=N_EPOCHS, verbose=True, batch_size=256\n",
    "    )\n",
    "    print(\"Trace of sigma: {}\".format(np.trace(sigma)))\n",
    "    stats = {\"mu\": mu.tolist(), \"sigma\": sigma.tolist()}\n",
    "    print(\"Stats computed\")\n",
    "\n",
    "    filename = \"{}_{}_test.json\".format(DATASET, IMG_SIZE)\n",
    "    with open(filename, \"w\") as fp:\n",
    "        json.dump(stats, fp)\n",
    "    print(\"States saved to {}\".format(filename))"
   ]
  },
  {
   "cell_type": "code",
   "execution_count": null,
   "metadata": {},
   "outputs": [],
   "source": []
  }
 ],
 "metadata": {
  "celltoolbar": "Tags",
  "kernelspec": {
   "display_name": "Python 3 (ipykernel)",
   "language": "python",
   "name": "python3"
  },
  "language_info": {
   "codemirror_mode": {
    "name": "ipython",
    "version": 3
   },
   "file_extension": ".py",
   "mimetype": "text/x-python",
   "name": "python",
   "nbconvert_exporter": "python",
   "pygments_lexer": "ipython3",
   "version": "3.12.2"
  }
 },
 "nbformat": 4,
 "nbformat_minor": 4
}
