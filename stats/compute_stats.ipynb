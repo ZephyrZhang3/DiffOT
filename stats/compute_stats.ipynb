{
 "cells": [
  {
   "cell_type": "code",
   "execution_count": 1,
   "metadata": {
    "execution": {
     "iopub.execute_input": "2024-05-26T05:18:44.538723Z",
     "iopub.status.busy": "2024-05-26T05:18:44.537934Z",
     "iopub.status.idle": "2024-05-26T05:18:48.024624Z",
     "shell.execute_reply": "2024-05-26T05:18:48.023520Z",
     "shell.execute_reply.started": "2024-05-26T05:18:44.538658Z"
    }
   },
   "outputs": [
    {
     "name": "stderr",
     "output_type": "stream",
     "text": [
      "/home/zyz/DiffOT/.venv/lib/python3.12/site-packages/tqdm/auto.py:22: TqdmWarning: IProgress not found. Please update jupyter and ipywidgets. See https://ipywidgets.readthedocs.io/en/stable/user_install.html\n",
      "  from .autonotebook import tqdm as notebook_tqdm\n"
     ]
    }
   ],
   "source": [
    "import sys\n",
    "\n",
    "sys.path.append(\"..\")\n",
    "\n",
    "import numpy as np\n",
    "\n",
    "%matplotlib inline \n",
    "\n",
    "import gc\n",
    "import json\n",
    "\n",
    "import torch\n",
    "\n",
    "# This needed to use dataloaders for some datasets\n",
    "from PIL import PngImagePlugin\n",
    "from tqdm.auto import tqdm\n",
    "\n",
    "from src.tools import get_loader_stats, load_dataset\n",
    "\n",
    "LARGE_ENOUGH_NUMBER = 100\n",
    "PngImagePlugin.MAX_TEXT_CHUNK = LARGE_ENOUGH_NUMBER * (1024**2)"
   ]
  },
  {
   "cell_type": "code",
   "execution_count": 2,
   "metadata": {
    "execution": {
     "iopub.execute_input": "2024-05-26T05:18:48.027783Z",
     "iopub.status.busy": "2024-05-26T05:18:48.026376Z",
     "iopub.status.idle": "2024-05-26T05:18:48.231018Z",
     "shell.execute_reply": "2024-05-26T05:18:48.229684Z",
     "shell.execute_reply.started": "2024-05-26T05:18:48.027706Z"
    }
   },
   "outputs": [],
   "source": [
    "gc.collect()\n",
    "torch.cuda.empty_cache()"
   ]
  },
  {
   "cell_type": "markdown",
   "metadata": {},
   "source": [
    "## Main Config\n"
   ]
  },
  {
   "cell_type": "code",
   "execution_count": 3,
   "metadata": {
    "execution": {
     "iopub.execute_input": "2024-05-26T05:18:48.234760Z",
     "iopub.status.busy": "2024-05-26T05:18:48.233831Z",
     "iopub.status.idle": "2024-05-26T05:18:48.264112Z",
     "shell.execute_reply": "2024-05-26T05:18:48.262878Z",
     "shell.execute_reply.started": "2024-05-26T05:18:48.234708Z"
    },
    "tags": [
     "parameters"
    ]
   },
   "outputs": [],
   "source": [
    "DEVICE_ID = 0\n",
    "\n",
    "DATASET_LIST = [\n",
    "    (\"MNIST-colored_3\", \"~/data/MNIST\", 32, 1),\n",
    "]\n",
    "# DATASET_LIST = [\n",
    "#     (\"CelebA_high\", \"~/data/img_align_celeba\", 64, 1),\n",
    "# ]\n",
    "\n",
    "assert torch.cuda.is_available()\n",
    "torch.cuda.set_device(f\"cuda:{DEVICE_ID}\")"
   ]
  },
  {
   "cell_type": "code",
   "execution_count": 4,
   "metadata": {
    "execution": {
     "iopub.execute_input": "2024-05-26T05:18:48.266531Z",
     "iopub.status.busy": "2024-05-26T05:18:48.265826Z",
     "iopub.status.idle": "2024-05-26T05:18:55.529956Z",
     "shell.execute_reply": "2024-05-26T05:18:55.529236Z",
     "shell.execute_reply.started": "2024-05-26T05:18:48.266474Z"
    }
   },
   "outputs": [
    {
     "name": "stderr",
     "output_type": "stream",
     "text": [
      "  0%|                                                                                                                                                                                                              | 0/1 [00:00<?, ?it/s]"
     ]
    },
    {
     "name": "stdout",
     "output_type": "stream",
     "text": [
      "Processing MNIST-colored_3\n",
      "Dataset MNIST-colored_3 loaded\n"
     ]
    },
    {
     "name": "stderr",
     "output_type": "stream",
     "text": [
      "/home/zyz/DiffOT/.venv/lib/python3.12/site-packages/torchvision/models/_utils.py:208: UserWarning: The parameter 'pretrained' is deprecated since 0.13 and may be removed in the future, please use 'weights' instead.\n",
      "  warnings.warn(\n",
      "/home/zyz/DiffOT/.venv/lib/python3.12/site-packages/torchvision/models/_utils.py:223: UserWarning: Arguments other than a weight enum or `None` for 'weights' are deprecated since 0.13 and may be removed in the future. The current behavior is equivalent to passing `weights=None`.\n",
      "  warnings.warn(msg)\n",
      "\n",
      "0it [00:00, ?it/s]\u001b[A\n",
      "1it [00:00,  3.10it/s]\u001b[A\n",
      "2it [00:00,  4.85it/s]\u001b[A\n",
      "3it [00:00,  5.98it/s]\u001b[A\n",
      "4it [00:00,  5.77it/s]\u001b[A\n"
     ]
    },
    {
     "name": "stdout",
     "output_type": "stream",
     "text": [
      "Trace of sigma: 67.06710443320588\n",
      "Stats computed\n"
     ]
    },
    {
     "name": "stderr",
     "output_type": "stream",
     "text": [
      "100%|██████████████████████████████████████████████████████████████████████████████████████████████████████████████████████████████████████████████████████████████████████████████████████████████████████| 1/1 [00:07<00:00,  7.25s/it]"
     ]
    },
    {
     "name": "stdout",
     "output_type": "stream",
     "text": [
      "States saved to MNIST-colored_3_32_test.json\n"
     ]
    },
    {
     "name": "stderr",
     "output_type": "stream",
     "text": [
      "\n"
     ]
    }
   ],
   "source": [
    "for DATASET, DATASET_PATH, IMG_SIZE, N_EPOCHS in tqdm(DATASET_LIST):\n",
    "    print(\"Processing {}\".format(DATASET))\n",
    "    sampler, test_sampler = load_dataset(\n",
    "        DATASET, DATASET_PATH, img_size=IMG_SIZE, batch_size=256\n",
    "    )\n",
    "    print(\"Dataset {} loaded\".format(DATASET))\n",
    "\n",
    "    mu, sigma = get_loader_stats(\n",
    "        test_sampler.loader, n_epochs=N_EPOCHS, verbose=True, batch_size=256\n",
    "    )\n",
    "    print(\"Trace of sigma: {}\".format(np.trace(sigma)))\n",
    "    stats = {\"mu\": mu.tolist(), \"sigma\": sigma.tolist()}\n",
    "    print(\"Stats computed\")\n",
    "\n",
    "    filename = \"{}_{}_test.json\".format(DATASET, IMG_SIZE)\n",
    "    with open(filename, \"w\") as fp:\n",
    "        json.dump(stats, fp)\n",
    "    print(\"States saved to {}\".format(filename))"
   ]
  },
  {
   "cell_type": "code",
   "execution_count": null,
   "metadata": {},
   "outputs": [],
   "source": []
  }
 ],
 "metadata": {
  "celltoolbar": "Tags",
  "kernelspec": {
   "display_name": "Python 3 (ipykernel)",
   "language": "python",
   "name": "python3"
  },
  "language_info": {
   "codemirror_mode": {
    "name": "ipython",
    "version": 3
   },
   "file_extension": ".py",
   "mimetype": "text/x-python",
   "name": "python",
   "nbconvert_exporter": "python",
   "pygments_lexer": "ipython3",
   "version": "3.12.2"
  }
 },
 "nbformat": 4,
 "nbformat_minor": 4
}
